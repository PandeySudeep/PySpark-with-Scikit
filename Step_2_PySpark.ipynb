{
 "cells": [
  {
   "cell_type": "code",
   "execution_count": null,
   "metadata": {},
   "outputs": [],
   "source": [
    "from pyspark.sql import SQLContext\n",
    "from pyspark.sql.types import *\n",
    "sqlContext = SQLContext(sc)"
   ]
  },
  {
   "cell_type": "code",
   "execution_count": null,
   "metadata": {},
   "outputs": [],
   "source": [
    "df = sqlContext.read.load('inputFile.csv', \n",
    "                          format='com.databricks.spark.csv', \n",
    "                          header='true', \n",
    "                          inferSchema='true')\n",
    "#df.count()"
   ]
  },
  {
   "cell_type": "code",
   "execution_count": null,
   "metadata": {},
   "outputs": [],
   "source": [
    "df.show()"
   ]
  },
  {
   "cell_type": "code",
   "execution_count": null,
   "metadata": {},
   "outputs": [],
   "source": [
    "#open picked model\n",
    "serialized_model = open(\"pickled_model.sav\", \"rb\")\n",
    "model = pickle.load(serialized_model)\n",
    "serialized_model.close()\n",
    "#broadcast model to spark executors using spark context(sc)\n",
    "sc.broadcast(model)\n",
    "#update prediction method\n",
    "def predictor(s_l, s_w, p_l, p_w):\n",
    "    #call predict method for model\n",
    "    return model.predict([s_l, s_w, p_l, p_w])\n",
    "#register python method as spark UDF and call over dataframe\n",
    "from pyspark.sql.functions import udf\n",
    "from pyspark.sql.types import FloatType\n",
    "udf_predictor = udf(predictor, FloatType())\n",
    "#apply the udf to dataframe\n",
    "df_prediction = df.withColumn(\"prediction\",\n",
    "                                udf_predictor(df.a    \n",
    "                                              ,df.b\n",
    "                                              , df.c\n",
    "                                              , df.d))\n",
    "                                            "
   ]
  },
  {
   "cell_type": "code",
   "execution_count": null,
   "metadata": {},
   "outputs": [],
   "source": [
    "df_prediction.coalesce(1).write.format('com.databricks.spark.csv').option('header', 'true').save('predictions.csv')"
   ]
  }
 ],
 "metadata": {
  "kernelspec": {
   "display_name": "Python 2",
   "language": "python",
   "name": "python2"
  },
  "language_info": {
   "codemirror_mode": {
    "name": "ipython",
    "version": 2
   },
   "file_extension": ".py",
   "mimetype": "text/x-python",
   "name": "python",
   "nbconvert_exporter": "python",
   "pygments_lexer": "ipython2",
   "version": "2.7.16"
  }
 },
 "nbformat": 4,
 "nbformat_minor": 2
}
